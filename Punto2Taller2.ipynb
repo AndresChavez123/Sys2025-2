{
  "nbformat": 4,
  "nbformat_minor": 0,
  "metadata": {
    "colab": {
      "provenance": [],
      "authorship_tag": "ABX9TyPDt0sjI8+kr26CYIFJEtRe",
      "include_colab_link": true
    },
    "kernelspec": {
      "name": "python3",
      "display_name": "Python 3"
    },
    "language_info": {
      "name": "python"
    }
  },
  "cells": [
    {
      "cell_type": "markdown",
      "metadata": {
        "id": "view-in-github",
        "colab_type": "text"
      },
      "source": [
        "<a href=\"https://colab.research.google.com/github/AndresChavez123/Sys2025-2/blob/main/Punto2Taller2.ipynb\" target=\"_parent\"><img src=\"https://colab.research.google.com/assets/colab-badge.svg\" alt=\"Open In Colab\"/></a>"
      ]
    },
    {
      "cell_type": "markdown",
      "source": [
        "\n",
        "\n",
        "---\n",
        "\n",
        "### Relaciones entre las transformadas\n",
        "| **Tipo de señal (tiempo)** | **Tipo de espectro (frecuencia)** | **Transformada aplicable** |\n",
        "|-----------------------------|-----------------------------------|-----------------------------|\n",
        "| Continuo y periódico | Discreto | Serie de Fourier |\n",
        "| Continuo y aperiódico | Continuo | Transformada de Fourier (FT) |\n",
        "| Discreto e infinito | Continuo periódico | Transformada de Fourier en tiempo discreto (DTFT) |\n",
        "| Discreto y finito | Discreto | Transformada discreta de Fourier (DFT, FFT) |\n",
        "\n",
        "---\n",
        "\n",
        "### Algoritmo FFT (Fast Fourier Transform)\n",
        "\n",
        "El algoritmo **FFT** es una forma rápida de calcular la **DFT**.  \n",
        "- Reduce el número de operaciones de \\( N^2 \\) a \\( N \\log_2 N \\).  \n",
        "- Divide recursivamente la señal en partes pares e impares y combina resultados mediante el principio de divide y vencerás.  \n",
        "- Es esencial en el **procesamiento digital de señales (DSP)**, **audio**, **video** y **comunicaciones**.\n",
        "\n",
        "**Costo computacional:**\n",
        "- **DFT directa:** \\( O(N^2) \\)\n",
        "- **FFT:** \\( O(N \\log_2 N) \\)\n",
        "\n",
        "Esto significa que la FFT es aproximadamente **100 veces más rápida** que la DFT para señales grandes (por ejemplo, \\( N = 1024 \\)).\n",
        "\n",
        "---\n",
        "\n",
        "💡 **Conclusión:**  \n",
        "Todas las versiones de la transformada de Fourier analizan el contenido en frecuencia de una señal, pero difieren según si la señal y su espectro son continuos o discretos.  \n",
        "La **FFT** no es una nueva transformada, sino un **algoritmo eficiente** para calcular la **DFT**."
      ],
      "metadata": {
        "id": "yFh4mc9gYO-i"
      }
    },
    {
      "cell_type": "code",
      "execution_count": null,
      "metadata": {
        "id": "F2wUVcvEXkjz"
      },
      "outputs": [],
      "source": [
        "# ---------------------------------------------------------\n",
        "# Ejemplo comparativo de DFT y FFT con Python\n",
        "# ---------------------------------------------------------\n",
        "import numpy as np\n",
        "import matplotlib.pyplot as plt\n",
        "from scipy.fft import fft, fftfreq\n",
        "\n",
        "# 1. Crear una señal discreta: suma de dos senoidales\n",
        "fs = 500       # Frecuencia de muestreo [Hz]\n",
        "T = 1/fs       # Período de muestreo\n",
        "N = 500        # Número de muestras\n",
        "t = np.linspace(0, (N-1)*T, N)\n",
        "\n",
        "# Señal: 50 Hz + 120 Hz\n",
        "x = 0.7*np.sin(2*np.pi*50*t) + np.sin(2*np.pi*120*t)\n",
        "\n",
        "# 2. Cálculo de la DFT manual (definición)\n",
        "def DFT_manual(x):\n",
        "    N = len(x)\n",
        "    X = np.zeros(N, dtype=complex)\n",
        "    for k in range(N):\n",
        "        for n in range(N):\n",
        "            X[k] += x[n]*np.exp(-1j*2*np.pi*k*n/N)\n",
        "    return X\n",
        "\n",
        "# DFT directa (muy lenta)\n",
        "# X_dft = DFT_manual(x)\n",
        "\n",
        "# 3. Cálculo rápido usando FFT\n",
        "X_fft = fft(x)\n",
        "f = fftfreq(N, T)\n",
        "\n",
        "# 4. Magnitud del espectro\n",
        "plt.figure(figsize=(10,4))\n",
        "plt.plot(f[:N//2], 2/N * np.abs(X_fft[:N//2]), color='b')\n",
        "plt.title('Espectro de magnitud (FFT)')\n",
        "plt.xlabel('Frecuencia [Hz]')\n",
        "plt.ylabel('|X(f)|')\n",
        "plt.grid(True)\n",
        "plt.show()\n",
        "\n",
        "# 5. Comparación de tiempos de ejecución (opcional)\n",
        "import time\n",
        "\n",
        "x_short = x[:256]\n",
        "\n",
        "t0 = time.time()\n",
        "DFT_manual(x_short)\n",
        "t_dft = time.time() - t0\n",
        "\n",
        "t1 = time.time()\n",
        "fft(x_short)\n",
        "t_fft = time.time() - t1\n",
        "\n",
        "print(f\"Tiempo DFT manual: {t_dft:.5f} s\")\n",
        "print(f\"Tiempo FFT (scipy): {t_fft:.5f} s\")\n",
        "print(f\"Factor de aceleración: {t_dft/t_fft:.1f}x\")\n"
      ]
    }
  ]
}